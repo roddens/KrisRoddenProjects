{
  "nbformat": 4,
  "nbformat_minor": 0,
  "metadata": {
    "colab": {
      "name": "Untitled0.ipynb",
      "version": "0.3.2",
      "provenance": [],
      "include_colab_link": true
    },
    "kernelspec": {
      "name": "python3",
      "display_name": "Python 3"
    }
  },
  "cells": [
    {
      "cell_type": "markdown",
      "metadata": {
        "id": "view-in-github",
        "colab_type": "text"
      },
      "source": [
        "<a href=\"https://colab.research.google.com/github/roddens/KrisRoddenProjects/blob/master/Untitled0.ipynb\" target=\"_parent\"><img src=\"https://colab.research.google.com/assets/colab-badge.svg\" alt=\"Open In Colab\"/></a>"
      ]
    },
    {
      "cell_type": "code",
      "metadata": {
        "id": "kOrcx59Frz6o",
        "colab_type": "code",
        "colab": {}
      },
      "source": [
        "Python and Github workshop"
      ],
      "execution_count": 0,
      "outputs": []
    },
    {
      "cell_type": "code",
      "metadata": {
        "id": "MNqryqcIsU3a",
        "colab_type": "code",
        "colab": {}
      },
      "source": [
        "import pandas as pd\n",
        "import numpy as np\n",
        "\n"
      ],
      "execution_count": 0,
      "outputs": []
    },
    {
      "cell_type": "code",
      "metadata": {
        "id": "UL0YNgNKtDVh",
        "colab_type": "code",
        "colab": {}
      },
      "source": [
        "#This is called your dataframe\n",
        "#these are comments after pound symbol\n"
      ],
      "execution_count": 0,
      "outputs": []
    },
    {
      "cell_type": "code",
      "metadata": {
        "id": "_FCN4Z-KtG13",
        "colab_type": "code",
        "outputId": "5fe4f4b0-b9c8-4a31-e625-9fe00d49b67b",
        "colab": {
          "base_uri": "https://localhost:8080/",
          "height": 204
        }
      },
      "source": [
        "Rainier_Weather=pd.read_csv(\"https://raw.githubusercontent.com/roddens/KrisRoddenProjects/master/Rainier_Weather.csv\")\n",
        "Rainier_Weather.head()"
      ],
      "execution_count": 0,
      "outputs": [
        {
          "output_type": "execute_result",
          "data": {
            "text/html": [
              "<div>\n",
              "<style scoped>\n",
              "    .dataframe tbody tr th:only-of-type {\n",
              "        vertical-align: middle;\n",
              "    }\n",
              "\n",
              "    .dataframe tbody tr th {\n",
              "        vertical-align: top;\n",
              "    }\n",
              "\n",
              "    .dataframe thead th {\n",
              "        text-align: right;\n",
              "    }\n",
              "</style>\n",
              "<table border=\"1\" class=\"dataframe\">\n",
              "  <thead>\n",
              "    <tr style=\"text-align: right;\">\n",
              "      <th></th>\n",
              "      <th>Date</th>\n",
              "      <th>Battery Voltage AVG</th>\n",
              "      <th>Temperature AVG</th>\n",
              "      <th>Relative Humidity AVG</th>\n",
              "      <th>Wind Speed Daily AVG</th>\n",
              "      <th>Wind Direction AVG</th>\n",
              "      <th>Solare Radiation AVG</th>\n",
              "    </tr>\n",
              "  </thead>\n",
              "  <tbody>\n",
              "    <tr>\n",
              "      <th>0</th>\n",
              "      <td>12/31/2015</td>\n",
              "      <td>13.845000</td>\n",
              "      <td>19.062917</td>\n",
              "      <td>21.870833</td>\n",
              "      <td>21.977792</td>\n",
              "      <td>62.325833</td>\n",
              "      <td>84.915292</td>\n",
              "    </tr>\n",
              "    <tr>\n",
              "      <th>1</th>\n",
              "      <td>12/30/2015</td>\n",
              "      <td>13.822917</td>\n",
              "      <td>14.631208</td>\n",
              "      <td>18.493833</td>\n",
              "      <td>3.540542</td>\n",
              "      <td>121.505417</td>\n",
              "      <td>86.192833</td>\n",
              "    </tr>\n",
              "    <tr>\n",
              "      <th>2</th>\n",
              "      <td>12/29/2015</td>\n",
              "      <td>13.834583</td>\n",
              "      <td>6.614292</td>\n",
              "      <td>34.072917</td>\n",
              "      <td>0.000000</td>\n",
              "      <td>130.291667</td>\n",
              "      <td>85.100917</td>\n",
              "    </tr>\n",
              "    <tr>\n",
              "      <th>3</th>\n",
              "      <td>12/28/2015</td>\n",
              "      <td>13.710417</td>\n",
              "      <td>8.687042</td>\n",
              "      <td>70.557917</td>\n",
              "      <td>0.000000</td>\n",
              "      <td>164.683750</td>\n",
              "      <td>86.241250</td>\n",
              "    </tr>\n",
              "    <tr>\n",
              "      <th>4</th>\n",
              "      <td>12/27/2015</td>\n",
              "      <td>13.362500</td>\n",
              "      <td>14.140417</td>\n",
              "      <td>95.754167</td>\n",
              "      <td>0.000000</td>\n",
              "      <td>268.479167</td>\n",
              "      <td>31.090708</td>\n",
              "    </tr>\n",
              "  </tbody>\n",
              "</table>\n",
              "</div>"
            ],
            "text/plain": [
              "         Date  Battery Voltage AVG  ...  Wind Direction AVG  Solare Radiation AVG\n",
              "0  12/31/2015            13.845000  ...           62.325833             84.915292\n",
              "1  12/30/2015            13.822917  ...          121.505417             86.192833\n",
              "2  12/29/2015            13.834583  ...          130.291667             85.100917\n",
              "3  12/28/2015            13.710417  ...          164.683750             86.241250\n",
              "4  12/27/2015            13.362500  ...          268.479167             31.090708\n",
              "\n",
              "[5 rows x 7 columns]"
            ]
          },
          "metadata": {
            "tags": []
          },
          "execution_count": 6
        }
      ]
    }
  ]
}